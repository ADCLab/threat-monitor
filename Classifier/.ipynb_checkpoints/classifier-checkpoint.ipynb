{
 "cells": [
  {
   "cell_type": "code",
   "execution_count": 1,
   "id": "f44b4cc0-6dd0-4546-af76-ebe4f22a4f45",
   "metadata": {},
   "outputs": [],
   "source": [
    "from imblearn.pipeline import Pipeline  # imblearn's pipeline supports resampling steps\n",
    "from sklearn.feature_extraction.text import TfidfVectorizer\n",
    "from sklearn.decomposition import TruncatedSVD\n",
    "from sklearn.linear_model import LogisticRegression\n",
    "from imblearn.over_sampling import SMOTE\n",
    "from sklearn.model_selection import GridSearchCV, train_test_split\n",
    "from sklearn.metrics import classification_report\n",
    "import pandas as pd\n",
    "import numpy as np\n",
    "import os"
   ]
  },
  {
   "cell_type": "code",
   "execution_count": 2,
   "id": "d2f62955-3cd0-4564-97bf-ef9c995a3a6c",
   "metadata": {},
   "outputs": [
    {
     "name": "stdout",
     "output_type": "stream",
     "text": [
      "Content of 'output_03.csv'\n",
      "Content of 'output_02.csv'\n",
      "Content of 'output_04.csv'\n",
      "Content of 'output_01.csv'\n",
      "Content of 'output_05.csv'\n",
      "Content of 'output_06.csv'\n",
      "(509073, 15)\n"
     ]
    }
   ],
   "source": [
    "# Load and prepare your data\n",
    "directory = r\"/home/camiloav/Code/HomeSecurity/Classifier/dataset/\"\n",
    "df = pd.DataFrame()\n",
    "for name in os.listdir(directory):\n",
    "    with open(os.path.join(directory, name)) as f:\n",
    "        print(f\"Content of '{name}'\")\n",
    "        csvdf = pd.read_csv(f)\n",
    "        df = pd.concat([df, csvdf])\n",
    "print(df.shape)\n"
   ]
  },
  {
   "cell_type": "code",
   "execution_count": 3,
   "id": "ff221d97-259a-4790-9538-70f48dcc6a1b",
   "metadata": {},
   "outputs": [],
   "source": [
    "values = df[['Rating', 'Content']].copy()\n",
    "values.rename(columns={'Rating': 'label', 'Content': 'text'}, inplace=True)\n",
    "values['label'] = values['label'].map({1:0, 2:0, 3:1, 4:1, 5:1, np.nan:1})\n",
    "values.dropna(subset=['text'], inplace=True)\n",
    "\n",
    "X_train, X_test, y_train, y_test = train_test_split(\n",
    "    values['text'], values['label'], test_size=0.2, random_state=42\n",
    ")"
   ]
  },
  {
   "cell_type": "code",
   "execution_count": null,
   "id": "6ace51a2-5394-413d-bc26-2705264e462d",
   "metadata": {},
   "outputs": [],
   "source": [
    "# Build a pipeline that includes TF-IDF, dimensionality reduction (optional), SMOTE, and logistic regression\n",
    "pipeline = Pipeline([\n",
    "    ('tfidf', TfidfVectorizer()),\n",
    "    ('svd', TruncatedSVD()),       # Dimensionality reduction to reduce memory footprint\n",
    "    ('smote', SMOTE()),            # SMOTE oversampling\n",
    "    ('clf', LogisticRegression(max_iter=1000))\n",
    "])\n",
    "\n",
    "# Set up a parameter grid to search over.\n",
    "# You can tune parameters for the vectorizer, SVD, and the classifier.\n",
    "param_grid = {\n",
    "    'tfidf__ngram_range': [(1, 1), (1, 2)],\n",
    "    'tfidf__max_df': [0.75, 0.85],\n",
    "    'svd__n_components': [100, 200],\n",
    "    'clf__C': [0.1, 1, 10]\n",
    "}\n",
    "\n",
    "# Use GridSearchCV to test all combinations\n",
    "grid_search = GridSearchCV(pipeline, param_grid, cv=3, scoring='f1_macro', n_jobs=-1)\n",
    "\n",
    "# Run the grid search on your training data\n",
    "grid_search.fit(X_train, y_train)\n",
    "\n",
    "# Print the best parameters and evaluation on test set\n",
    "print(\"Best parameters:\", grid_search.best_params_)\n",
    "best_model = grid_search.best_estimator_\n",
    "preds = best_model.predict(X_test)\n",
    "print(\"Classification Report on Test Data:\")\n",
    "print(classification_report(y_test, preds))\n"
   ]
  }
 ],
 "metadata": {
  "kernelspec": {
   "display_name": "Python 3 (ipykernel)",
   "language": "python",
   "name": "python3"
  },
  "language_info": {
   "codemirror_mode": {
    "name": "ipython",
    "version": 3
   },
   "file_extension": ".py",
   "mimetype": "text/x-python",
   "name": "python",
   "nbconvert_exporter": "python",
   "pygments_lexer": "ipython3",
   "version": "3.12.3"
  }
 },
 "nbformat": 4,
 "nbformat_minor": 5
}
