{
 "cells": [
  {
   "cell_type": "code",
   "execution_count": 19,
   "id": "4623c1ab-f5d9-4e51-b9c7-655eebb4902f",
   "metadata": {},
   "outputs": [],
   "source": [
    "import pandas as pd\n",
    "from sklearn.feature_extraction.text import CountVectorizer, TfidfVectorizer\n",
    "from sklearn.model_selection import train_test_split\n",
    "from sklearn.linear_model import LogisticRegression\n",
    "from sklearn.metrics import accuracy_score, confusion_matrix, classification_report\n",
    "from sklearn.pipeline import make_pipeline"
   ]
  },
  {
   "cell_type": "code",
   "execution_count": 24,
   "id": "d2f62955-3cd0-4564-97bf-ef9c995a3a6c",
   "metadata": {},
   "outputs": [
    {
     "name": "stdout",
     "output_type": "stream",
     "text": [
      "Content of 'output_03.csv'\n",
      "Content of 'output_02.csv'\n",
      "Content of 'output_04.csv'\n",
      "Content of 'output_01.csv'\n",
      "Content of 'output_05.csv'\n",
      "Content of 'output_06.csv'\n",
      "(509073, 15)\n"
     ]
    }
   ],
   "source": [
    "# Import module\n",
    "import os\n",
    "\n",
    "# Assign directory\n",
    "directory = r\"/home/camiloav/Code/HomeSecurity/Classifier/dataset/\"\n",
    "\n",
    "df = pd.DataFrame()\n",
    "# Iterate over files in directory\n",
    "for name in os.listdir(directory):\n",
    "    # Open file\n",
    "    with open(os.path.join(directory, name)) as f:\n",
    "        print(f\"Content of '{name}'\")\n",
    "        csvdf = pd.read_csv(f)\n",
    "        df = pd.concat([df, csvdf])\n",
    "print(df.shape)\n",
    "    "
   ]
  },
  {
   "cell_type": "code",
   "execution_count": 25,
   "id": "6ace51a2-5394-413d-bc26-2705264e462d",
   "metadata": {},
   "outputs": [],
   "source": [
    "import numpy as np\n",
    "values = df[['Rating', 'Content']].copy()\n",
    "values.rename(columns={'Rating': 'label', 'Content': 'text'}, inplace=True)\n",
    "# Labels range 1-2 are 0's where 3-5 & N/A are 1's. We want to predict if comment is a 1. \n",
    "values['label'] = values['label'].map({1:0, 2:0, 3:1, 4:1, 5:1, np.nan:1})"
   ]
  },
  {
   "cell_type": "code",
   "execution_count": null,
   "id": "80a3cad1-52b9-4753-943a-daa925195fdc",
   "metadata": {},
   "outputs": [],
   "source": [
    "X_train, X_test, y_train, y_test = train_test_split(comments, labels, test_size=0.2, random_state=42)"
   ]
  },
  {
   "cell_type": "code",
   "execution_count": 26,
   "id": "50303251-6b24-423d-a8f7-9fe066531fba",
   "metadata": {},
   "outputs": [
    {
     "ename": "NameError",
     "evalue": "name 'X_train' is not defined",
     "output_type": "error",
     "traceback": [
      "\u001b[31m---------------------------------------------------------------------------\u001b[39m",
      "\u001b[31mNameError\u001b[39m                                 Traceback (most recent call last)",
      "\u001b[36mCell\u001b[39m\u001b[36m \u001b[39m\u001b[32mIn[26]\u001b[39m\u001b[32m, line 6\u001b[39m\n\u001b[32m      1\u001b[39m model = make_pipeline(\n\u001b[32m      2\u001b[39m     TfidfVectorizer(),\n\u001b[32m      3\u001b[39m     LogisticRegression(class_weight=\u001b[33m'\u001b[39m\u001b[33mbalanced\u001b[39m\u001b[33m'\u001b[39m, max_iter=\u001b[32m1000\u001b[39m)\n\u001b[32m      4\u001b[39m )\n\u001b[32m----> \u001b[39m\u001b[32m6\u001b[39m model.fit(\u001b[43mX_train\u001b[49m, y_train)\n\u001b[32m      7\u001b[39m predictions = model.predict(X_test)\n\u001b[32m      9\u001b[39m \u001b[38;5;28mprint\u001b[39m(classification_report(y_test, predictions))\n",
      "\u001b[31mNameError\u001b[39m: name 'X_train' is not defined"
     ]
    }
   ],
   "source": [
    "model = make_pipeline(\n",
    "    TfidfVectorizer(),\n",
    "    LogisticRegression(class_weight='balanced', max_iter=1000)\n",
    ")\n",
    "\n",
    "model.fit(X_train, y_train)\n",
    "predictions = model.predict(X_test)\n",
    "\n",
    "print(classification_report(y_test, predictions))"
   ]
  },
  {
   "cell_type": "code",
   "execution_count": null,
   "id": "e5ad06be-dfef-4680-94cc-eeccb064578d",
   "metadata": {},
   "outputs": [],
   "source": []
  }
 ],
 "metadata": {
  "kernelspec": {
   "display_name": "Python 3 (ipykernel)",
   "language": "python",
   "name": "python3"
  },
  "language_info": {
   "codemirror_mode": {
    "name": "ipython",
    "version": 3
   },
   "file_extension": ".py",
   "mimetype": "text/x-python",
   "name": "python",
   "nbconvert_exporter": "python",
   "pygments_lexer": "ipython3",
   "version": "3.12.3"
  }
 },
 "nbformat": 4,
 "nbformat_minor": 5
}
