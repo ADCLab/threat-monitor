{
 "cells": [
  {
   "cell_type": "code",
   "execution_count": 19,
   "id": "4623c1ab-f5d9-4e51-b9c7-655eebb4902f",
   "metadata": {},
   "outputs": [],
   "source": [
    "import pandas as pd\n",
    "from sklearn.feature_extraction.text import CountVectorizer\n",
    "from sklearn.model_selection import train_test_split\n",
    "from sklearn.linear_model import LogisticRegression\n",
    "from sklearn.metrics import accuracy_score, confusion_matrix"
   ]
  },
  {
   "cell_type": "code",
   "execution_count": 21,
   "id": "d2f62955-3cd0-4564-97bf-ef9c995a3a6c",
   "metadata": {},
   "outputs": [
    {
     "name": "stdout",
     "output_type": "stream",
     "text": [
      "Content of 'output_03.csv'\n",
      "Content of 'output_02.csv'\n",
      "Content of 'output_04.csv'\n",
      "Content of 'output_01.csv'\n",
      "Content of 'output_05.csv'\n",
      "Content of 'output_06.csv'\n",
      "(509073, 15)\n"
     ]
    }
   ],
   "source": [
    "# Import module\n",
    "import os\n",
    "\n",
    "# Assign directory\n",
    "directory = r\"/home/camiloav/Code/HomeSecurity/Classifier/dataset/\"\n",
    "\n",
    "df = pd.DataFrame()\n",
    "# Iterate over files in directory\n",
    "for name in os.listdir(directory):\n",
    "    # Open file\n",
    "    with open(os.path.join(directory, name)) as f:\n",
    "        print(f\"Content of '{name}'\")\n",
    "        csvdf = pd.read_csv(f)\n",
    "        df = pd.concat([df, csvdf])\n",
    "print(df.shape)\n",
    "    "
   ]
  },
  {
   "cell_type": "code",
   "execution_count": null,
   "id": "6ace51a2-5394-413d-bc26-2705264e462d",
   "metadata": {},
   "outputs": [],
   "source": []
  }
 ],
 "metadata": {
  "kernelspec": {
   "display_name": "Python 3 (ipykernel)",
   "language": "python",
   "name": "python3"
  },
  "language_info": {
   "codemirror_mode": {
    "name": "ipython",
    "version": 3
   },
   "file_extension": ".py",
   "mimetype": "text/x-python",
   "name": "python",
   "nbconvert_exporter": "python",
   "pygments_lexer": "ipython3",
   "version": "3.12.3"
  }
 },
 "nbformat": 4,
 "nbformat_minor": 5
}
