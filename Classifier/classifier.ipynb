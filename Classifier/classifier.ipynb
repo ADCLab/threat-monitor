{
 "cells": [
  {
   "cell_type": "code",
   "execution_count": 2,
   "id": "4623c1ab-f5d9-4e51-b9c7-655eebb4902f",
   "metadata": {},
   "outputs": [],
   "source": [
    "import pandas as pd\n",
    "from sklearn.feature_extraction.text import CountVectorizer\n",
    "from sklearn.model_selection import train_test_split\n",
    "from sklearn.linear_model import LogisticRegression\n",
    "from sklearn.metrics import accuracy_score, confusion_matrix"
   ]
  },
  {
   "cell_type": "code",
   "execution_count": 3,
   "id": "d2f62955-3cd0-4564-97bf-ef9c995a3a6c",
   "metadata": {},
   "outputs": [
    {
     "name": "stdout",
     "output_type": "stream",
     "text": [
      "Content of 'output_03.csv'\n",
      "Content of 'output_02.csv'\n",
      "Content of 'output_04.csv'\n",
      "Content of 'output_01.csv'\n",
      "Content of 'output_05.csv'\n",
      "Content of 'output_06.csv'\n",
      "(509073, 15)\n"
     ]
    }
   ],
   "source": [
    "# Import module\n",
    "import os\n",
    "\n",
    "# Assign directory\n",
    "directory = r\"/home/camiloav/Code/HomeSecurity/Classifier/dataset/\"\n",
    "\n",
    "df = pd.DataFrame()\n",
    "# Iterate over files in directory\n",
    "for name in os.listdir(directory):\n",
    "    # Open file\n",
    "    with open(os.path.join(directory, name)) as f:\n",
    "        print(f\"Content of '{name}'\")\n",
    "        csvdf = pd.read_csv(f)\n",
    "        df = pd.concat([df, csvdf])\n",
    "print(df.shape)\n",
    "    "
   ]
  },
  {
   "cell_type": "code",
   "execution_count": 16,
   "id": "6ace51a2-5394-413d-bc26-2705264e462d",
   "metadata": {},
   "outputs": [
    {
     "data": {
      "text/html": [
       "<div>\n",
       "<style scoped>\n",
       "    .dataframe tbody tr th:only-of-type {\n",
       "        vertical-align: middle;\n",
       "    }\n",
       "\n",
       "    .dataframe tbody tr th {\n",
       "        vertical-align: top;\n",
       "    }\n",
       "\n",
       "    .dataframe thead th {\n",
       "        text-align: right;\n",
       "    }\n",
       "</style>\n",
       "<table border=\"1\" class=\"dataframe\">\n",
       "  <thead>\n",
       "    <tr style=\"text-align: right;\">\n",
       "      <th></th>\n",
       "      <th>label</th>\n",
       "      <th>text</th>\n",
       "    </tr>\n",
       "  </thead>\n",
       "  <tbody>\n",
       "    <tr>\n",
       "      <th>0</th>\n",
       "      <td>0</td>\n",
       "      <td>Are those before or after pictures?</td>\n",
       "    </tr>\n",
       "    <tr>\n",
       "      <th>1</th>\n",
       "      <td>0</td>\n",
       "      <td>Wow.  that’s is some crazy drunk driving.</td>\n",
       "    </tr>\n",
       "    <tr>\n",
       "      <th>2</th>\n",
       "      <td>0</td>\n",
       "      <td>So her friend saw their car crash and flip and...</td>\n",
       "    </tr>\n",
       "    <tr>\n",
       "      <th>3</th>\n",
       "      <td>0</td>\n",
       "      <td>hanging out with her friends got her dead!</td>\n",
       "    </tr>\n",
       "    <tr>\n",
       "      <th>4</th>\n",
       "      <td>0</td>\n",
       "      <td>I hope her parents have obtained legal counsel...</td>\n",
       "    </tr>\n",
       "  </tbody>\n",
       "</table>\n",
       "</div>"
      ],
      "text/plain": [
       "   label                                               text\n",
       "0      0                Are those before or after pictures?\n",
       "1      0          Wow.  that’s is some crazy drunk driving.\n",
       "2      0  So her friend saw their car crash and flip and...\n",
       "3      0         hanging out with her friends got her dead!\n",
       "4      0  I hope her parents have obtained legal counsel..."
      ]
     },
     "execution_count": 16,
     "metadata": {},
     "output_type": "execute_result"
    }
   ],
   "source": [
    "import numpy as np\n",
    "values = df[['Rating', 'Content']].copy()\n",
    "values.rename(columns={'Rating': 'label', 'Content': 'text'}, inplace=True)\n",
    "values['label'] = values['label'].map({1:0, 2:0, 3:1, 4:1, 5:1, np.nan:1})\n",
    "values.head()"
   ]
  },
  {
   "cell_type": "code",
   "execution_count": null,
   "id": "50303251-6b24-423d-a8f7-9fe066531fba",
   "metadata": {},
   "outputs": [],
   "source": []
  }
 ],
 "metadata": {
  "kernelspec": {
   "display_name": "Python 3 (ipykernel)",
   "language": "python",
   "name": "python3"
  },
  "language_info": {
   "codemirror_mode": {
    "name": "ipython",
    "version": 3
   },
   "file_extension": ".py",
   "mimetype": "text/x-python",
   "name": "python",
   "nbconvert_exporter": "python",
   "pygments_lexer": "ipython3",
   "version": "3.12.3"
  }
 },
 "nbformat": 4,
 "nbformat_minor": 5
}
