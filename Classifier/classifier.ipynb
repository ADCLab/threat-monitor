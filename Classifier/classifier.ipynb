{
 "cells": [
  {
   "cell_type": "code",
   "execution_count": 102,
   "id": "f44b4cc0-6dd0-4546-af76-ebe4f22a4f45",
   "metadata": {},
   "outputs": [],
   "source": [
    "from imblearn.pipeline import Pipeline  # Use imblearn's Pipeline\n",
    "from sklearn.feature_extraction.text import TfidfVectorizer\n",
    "from sklearn.linear_model import LogisticRegression\n",
    "from imblearn.over_sampling import SMOTE\n",
    "from sklearn.preprocessing import FunctionTransformer\n",
    "import pandas as pd\n",
    "import numpy as np\n",
    "from sklearn.model_selection import train_test_split\n",
    "from sklearn.metrics import classification_report\n",
    "from sklearn.decomposition import TruncatedSVD\n",
    "from imblearn.over_sampling import RandomOverSampler\n",
    "import os"
   ]
  },
  {
   "cell_type": "code",
   "execution_count": 98,
   "id": "d2f62955-3cd0-4564-97bf-ef9c995a3a6c",
   "metadata": {},
   "outputs": [
    {
     "name": "stdout",
     "output_type": "stream",
     "text": [
      "Content of 'output_03.csv'\n",
      "Content of 'output_02.csv'\n",
      "Content of 'output_04.csv'\n",
      "Content of 'output_01.csv'\n",
      "Content of 'output_05.csv'\n",
      "Content of 'output_06.csv'\n",
      "(509073, 15)\n"
     ]
    }
   ],
   "source": [
    "# Load and prepare your data\n",
    "directory = r\"/home/camiloav/Code/HomeSecurity/Classifier/dataset/\"\n",
    "df = pd.DataFrame()\n",
    "for name in os.listdir(directory):\n",
    "    with open(os.path.join(directory, name)) as f:\n",
    "        print(f\"Content of '{name}'\")\n",
    "        csvdf = pd.read_csv(f)\n",
    "        df = pd.concat([df, csvdf])\n",
    "print(df.shape)\n"
   ]
  },
  {
   "cell_type": "code",
   "execution_count": 99,
   "id": "ff221d97-259a-4790-9538-70f48dcc6a1b",
   "metadata": {},
   "outputs": [],
   "source": [
    "values = df[['Rating', 'Content']].copy()\n",
    "values.rename(columns={'Rating': 'label', 'Content': 'text'}, inplace=True)\n",
    "values['label'] = values['label'].map({1:0, 2:0, 3:1, 4:1, 5:1, np.nan:1})\n",
    "values.dropna(subset=['text'], inplace=True)\n",
    "\n",
    "X_train, X_test, y_train, y_test = train_test_split(\n",
    "    values['text'], values['label'], test_size=0.2, random_state=42\n",
    ")\n"
   ]
  },
  {
   "cell_type": "code",
   "execution_count": 103,
   "id": "6ace51a2-5394-413d-bc26-2705264e462d",
   "metadata": {},
   "outputs": [
    {
     "name": "stdout",
     "output_type": "stream",
     "text": [
      "RandomOverSampler Pipeline Report:\n",
      "              precision    recall  f1-score   support\n",
      "\n",
      "           0       0.96      0.85      0.90     87515\n",
      "           1       0.45      0.76      0.56     14300\n",
      "\n",
      "    accuracy                           0.83    101815\n",
      "   macro avg       0.70      0.81      0.73    101815\n",
      "weighted avg       0.88      0.83      0.85    101815\n",
      "\n"
     ]
    }
   ],
   "source": [
    "\n",
    "# Define a transformer to convert sparse matrices to dense arrays\n",
    "to_dense = FunctionTransformer(lambda x: x.todense(), accept_sparse=True)\n",
    "\n",
    "pipeline = Pipeline([\n",
    "    ('tfidf', TfidfVectorizer()),\n",
    "    ('ros', RandomOverSampler()),\n",
    "    ('clf', LogisticRegression(max_iter=1000))\n",
    "])\n",
    "\n",
    "pipeline.fit(X_train, y_train)\n",
    "preds = pipeline.predict(X_test)\n",
    "print(\"RandomOverSampler Pipeline Report:\")\n",
    "print(classification_report(y_test, preds))"
   ]
  },
  {
   "cell_type": "code",
   "execution_count": null,
   "id": "62a7346d-3754-4b03-90ba-d6311d5181e0",
   "metadata": {},
   "outputs": [],
   "source": []
  }
 ],
 "metadata": {
  "kernelspec": {
   "display_name": "Python 3 (ipykernel)",
   "language": "python",
   "name": "python3"
  },
  "language_info": {
   "codemirror_mode": {
    "name": "ipython",
    "version": 3
   },
   "file_extension": ".py",
   "mimetype": "text/x-python",
   "name": "python",
   "nbconvert_exporter": "python",
   "pygments_lexer": "ipython3",
   "version": "3.12.3"
  }
 },
 "nbformat": 4,
 "nbformat_minor": 5
}
