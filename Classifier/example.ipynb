{
 "cells": [
  {
   "cell_type": "code",
   "execution_count": 73,
   "id": "74a9d354-baa7-461d-a5ba-ed4745e771d1",
   "metadata": {},
   "outputs": [],
   "source": [
    "import sklearn as sk\n",
    "from sklearn.datasets import load_breast_cancer\n",
    "from sklearn.model_selection import train_test_split"
   ]
  },
  {
   "cell_type": "code",
   "execution_count": 74,
   "id": "fa24d8c5-f43b-419e-8fd7-5c6d102f7491",
   "metadata": {},
   "outputs": [],
   "source": [
    "data = load_breast_cancer()"
   ]
  },
  {
   "cell_type": "markdown",
   "id": "e3d2b191-f5a5-41c1-8498-f5c249446b30",
   "metadata": {},
   "source": [
    "Maligant(Bad) = 0\n",
    "Benign(Good) = 1"
   ]
  },
  {
   "cell_type": "code",
   "execution_count": 75,
   "id": "e8396e6b-f936-44ba-8f40-a4f20edd4ca2",
   "metadata": {},
   "outputs": [],
   "source": [
    "label_names = data['target_names']\n",
    "labels = data['target']\n",
    "feature_names = data['feature_names']\n",
    "features = data['data']"
   ]
  },
  {
   "cell_type": "markdown",
   "id": "cbe29e19-2703-428b-a54b-77ac4c71b31d",
   "metadata": {},
   "source": [
    "Each feature(569) item is a list of 30 embeddings representing its feature value"
   ]
  },
  {
   "cell_type": "code",
   "execution_count": 76,
   "id": "91bfcacc-67b2-4a72-b32e-0af907edd3de",
   "metadata": {},
   "outputs": [
    {
     "name": "stdout",
     "output_type": "stream",
     "text": [
      "['malignant' 'benign']\n",
      "0\n",
      "mean radius\n",
      "569\n"
     ]
    }
   ],
   "source": [
    "print(label_names)\n",
    "print(labels[0])\n",
    "print(feature_names[0])\n",
    "print(len(features))"
   ]
  },
  {
   "cell_type": "code",
   "execution_count": 77,
   "id": "d4158348-a15f-4c41-9962-16bd79fdfdeb",
   "metadata": {},
   "outputs": [],
   "source": [
    "# Random_state is used in examples for reproducible results\n",
    "train, test, train_labels, test_labels = train_test_split(features,\n",
    "                                                          labels,\n",
    "                                                          test_size=0.33)"
   ]
  },
  {
   "cell_type": "code",
   "execution_count": 78,
   "id": "cf8b7868-ae79-4ded-9938-0baab242fed5",
   "metadata": {},
   "outputs": [
    {
     "name": "stdout",
     "output_type": "stream",
     "text": [
      "[[2.137e+01 1.510e+01 1.413e+02 ... 1.966e-01 2.730e-01 8.666e-02]\n",
      " [1.075e+01 1.497e+01 6.826e+01 ... 3.413e-02 2.300e-01 6.769e-02]\n",
      " [1.032e+01 1.635e+01 6.531e+01 ... 2.381e-02 2.681e-01 7.399e-02]\n",
      " ...\n",
      " [1.133e+01 1.416e+01 7.179e+01 ... 1.111e-02 2.758e-01 6.386e-02]\n",
      " [1.532e+01 1.727e+01 1.032e+02 ... 2.229e-01 3.258e-01 1.191e-01]\n",
      " [1.575e+01 2.025e+01 1.026e+02 ... 1.479e-01 3.993e-01 1.064e-01]]\n",
      "[0 1 1 1 0 0 1 1 1 1 1 1 0 0 1 0 0 1 1 0 0 0 1 1 1 1 1 1 1 1 0 1 0 0 1 1 1\n",
      " 1 0 1 0 1 1 0 0 1 1 0 1 0 1 1 1 1 0 1 0 0 0 0 0 0 1 1 0 1 1 1 1 1 1 0 1 1\n",
      " 1 0 0 0 1 0 1 1 1 0 1 1 0 1 0 1 1 0 1 0 1 0 1 0 0 1 0 1 1 0 1 1 0 1 1 0 0\n",
      " 0 1 0 1 1 1 1 1 0 1 1 0 1 0 0 0 0 0 1 1 1 0 0 1 1 1 1 1 1 0 0 1 0 1 1 1 0\n",
      " 1 0 1 1 1 1 1 1 1 1 1 1 1 0 0 0 0 0 1 0 0 1 1 1 0 0 1 1 1 1 1 1 1 1 0 1 1\n",
      " 0 0 1 0 1 1 0 0 1 1 1 0 1 1 0 0 1 0 1 1 1 1 1 0 0 1 1 0 1 1 1 0 1 1 1 1 1\n",
      " 0 1 1 1 1 1 0 1 0 1 1 0 1 1 1 1 1 1 0 0 0 1 1 1 1 1 0 1 0 1 1 1 1 0 1 1 1\n",
      " 0 0 0 0 1 0 1 1 1 0 1 1 1 0 0 0 0 0 0 1 1 0 0 1 1 1 1 0 1 0 0 0 0 1 0 0 1\n",
      " 1 1 1 1 1 1 1 1 1 1 0 1 0 1 1 1 1 0 1 1 1 0 0 1 0 1 1 1 0 1 0 1 1 1 1 0 0\n",
      " 1 1 1 0 1 0 0 1 1 0 1 1 1 1 1 1 1 0 1 1 1 1 1 1 1 0 0 1 1 0 0 1 1 1 1 0 1\n",
      " 1 0 0 1 1 0 1 1 1 0 0]\n"
     ]
    }
   ],
   "source": [
    "print(train)\n",
    "print(train_labels)"
   ]
  },
  {
   "cell_type": "code",
   "execution_count": 79,
   "id": "6c4c8acd-d392-413b-9997-4157a203c590",
   "metadata": {},
   "outputs": [],
   "source": [
    "from sklearn.naive_bayes import GaussianNB\n",
    "\n",
    "\n",
    "# Initialize our classifier\n",
    "gnb = GaussianNB()\n",
    "\n",
    "# Train our classifier\n",
    "model = gnb.fit(train, train_labels)"
   ]
  },
  {
   "cell_type": "code",
   "execution_count": 80,
   "id": "bc39ec61-1096-479f-a81a-f0ba4f5ce80c",
   "metadata": {},
   "outputs": [
    {
     "name": "stdout",
     "output_type": "stream",
     "text": [
      "[0 1 1 1 1 0 1 0 1 0 1 0 1 1 0 0 1 1 1 1 0 1 1 1 1 0 1 1 1 1 0 1 1 1 0 0 0\n",
      " 1 1 0 0 1 1 0 0 1 0 1 1 1 1 1 1 0 0 0 1 0 0 0 1 0 1 1 1 0 0 1 0 1 1 1 1 1\n",
      " 0 0 0 0 1 1 0 1 1 0 1 1 1 0 1 1 1 0 1 0 1 1 1 1 1 0 1 1 1 1 1 1 0 1 1 1 0\n",
      " 1 1 0 0 1 1 1 0 1 0 1 1 1 1 0 1 1 1 1 1 0 0 1 1 1 0 0 1 1 1 0 1 1 1 1 1 1\n",
      " 1 0 0 1 1 1 0 1 1 0 0 0 0 1 1 1 1 0 1 1 0 1 0 1 1 0 1 1 0 0 1 1 1 0 1 0 1\n",
      " 1 1 1]\n"
     ]
    }
   ],
   "source": [
    "prediction_labels = gnb.predict(test)\n",
    "print(prediction_labels)"
   ]
  },
  {
   "cell_type": "code",
   "execution_count": 81,
   "id": "51e37b7f-0b48-407d-8647-724f80fb8b0f",
   "metadata": {},
   "outputs": [
    {
     "name": "stdout",
     "output_type": "stream",
     "text": [
      "0.9521276595744681\n"
     ]
    }
   ],
   "source": [
    "from sklearn.metrics import accuracy_score\n",
    "\n",
    "\n",
    "# Evaluate accuracy\n",
    "print(accuracy_score(test_labels, prediction_labels))"
   ]
  },
  {
   "cell_type": "code",
   "execution_count": null,
   "id": "6df76ce9-54dd-4b23-9589-5d49a42a3403",
   "metadata": {},
   "outputs": [],
   "source": []
  }
 ],
 "metadata": {
  "kernelspec": {
   "display_name": "Python 3 (ipykernel)",
   "language": "python",
   "name": "python3"
  },
  "language_info": {
   "codemirror_mode": {
    "name": "ipython",
    "version": 3
   },
   "file_extension": ".py",
   "mimetype": "text/x-python",
   "name": "python",
   "nbconvert_exporter": "python",
   "pygments_lexer": "ipython3",
   "version": "3.12.3"
  }
 },
 "nbformat": 4,
 "nbformat_minor": 5
}
